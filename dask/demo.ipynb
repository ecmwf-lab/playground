{
 "cells": [
  {
   "cell_type": "code",
   "execution_count": 1,
   "metadata": {
    "ExecuteTime": {
     "end_time": "2021-03-08T13:24:37.469229Z",
     "start_time": "2021-03-08T13:24:37.466666Z"
    },
    "scrolled": true
   },
   "outputs": [],
   "source": [
    "! pip install zarr\n",
    "! pip install s3fs\n",
    "! pip install climetlab\n",
    "! pip install climetlab_s2s_ai_competition --quiet"
   ]
  },
  {
   "cell_type": "code",
   "execution_count": 2,
   "metadata": {
    "ExecuteTime": {
     "end_time": "2021-03-08T13:24:38.087031Z",
     "start_time": "2021-03-08T13:24:37.470631Z"
    }
   },
   "outputs": [
    {
     "name": "stderr",
     "output_type": "stream",
     "text": [
      "module 'Magics' has no attribute 'strict_mode'\n"
     ]
    }
   ],
   "source": [
    "import climetlab as cml "
   ]
  },
  {
   "cell_type": "code",
   "execution_count": 3,
   "metadata": {
    "ExecuteTime": {
     "end_time": "2021-03-08T13:24:38.159473Z",
     "start_time": "2021-03-08T13:24:38.088436Z"
    },
    "scrolled": true
   },
   "outputs": [
    {
     "name": "stdout",
     "output_type": "stream",
     "text": [
      "Climetlab version : 0.2.3\n",
      "Climetlab-s2s-ai-competition plugin version : 0.2.3\n"
     ]
    }
   ],
   "source": [
    "import climetlab_s2s_ai_competition\n",
    "print(f'Climetlab version : {cml.__version__}')\n",
    "print(f'Climetlab-s2s-ai-competition plugin version : {climetlab_s2s_ai_competition.__version__}')"
   ]
  },
  {
   "cell_type": "markdown",
   "metadata": {},
   "source": [
    "# Using Zarr data"
   ]
  },
  {
   "cell_type": "code",
   "execution_count": 4,
   "metadata": {
    "ExecuteTime": {
     "end_time": "2021-03-08T13:24:38.162303Z",
     "start_time": "2021-03-08T13:24:38.160567Z"
    }
   },
   "outputs": [],
   "source": [
    "version = '0.1.20' # version of the data"
   ]
  },
  {
   "cell_type": "code",
   "execution_count": 5,
   "metadata": {
    "ExecuteTime": {
     "end_time": "2021-03-08T13:24:38.173079Z",
     "start_time": "2021-03-08T13:24:38.163394Z"
    }
   },
   "outputs": [],
   "source": [
    "import pandas as pd\n",
    "date=pd.date_range(start=\"2020-01-02\", end=\"2020-12-31\", freq=\"w-thu\")\n",
    "#date = [d.strftime('%Y%m%d') for d in date]\n",
    "date = [d.to_numpy() for d in date]"
   ]
  },
  {
   "cell_type": "code",
   "execution_count": 7,
   "metadata": {
    "ExecuteTime": {
     "end_time": "2021-03-08T13:24:56.865551Z",
     "start_time": "2021-03-08T13:24:38.223140Z"
    }
   },
   "outputs": [
    {
     "name": "stdout",
     "output_type": "stream",
     "text": [
      "By downloading data from this dataset, you agree to the their terms: Attribution 4.0 International(CC BY 4.0). If you do not agree with such terms, do not download the data. For more information, please visit https://www.ecmwf.int/en/terms-use and https://apps.ecmwf.int/datasets/data/s2s/licence/.\n"
     ]
    }
   ],
   "source": [
    "cmlds = cml.load_dataset(\"s2s-ai-competition-reference-set\",\n",
    "                         date=date,\n",
    "                         version=version,\n",
    "                         #hindcast=True,\n",
    "                         format='zarr')\n",
    "cmlds"
   ]
  },
  {
   "cell_type": "code",
   "execution_count": null,
   "metadata": {},
   "outputs": [],
   "source": [
    "ds = cmlds.to_xarray()\n",
    "ds"
   ]
  },
  {
   "cell_type": "code",
   "execution_count": null,
   "metadata": {
    "ExecuteTime": {
     "start_time": "2021-03-08T13:24:36.797Z"
    }
   },
   "outputs": [],
   "source": [
    "mean1 = ds.mean(dim=\"step\")\n",
    "cml.plot_map(mean1.isel(forecast_time=0, realization=0))"
   ]
  },
  {
   "cell_type": "code",
   "execution_count": null,
   "metadata": {
    "ExecuteTime": {
     "start_time": "2021-03-08T13:24:36.799Z"
    }
   },
   "outputs": [],
   "source": [
    "mean2 = ds.mean(dim=\"forecast_time\")\n",
    "cml.plot_map(mean2.isel(step=20, realization=0))"
   ]
  },
  {
   "cell_type": "code",
   "execution_count": null,
   "metadata": {
    "ExecuteTime": {
     "start_time": "2021-03-08T13:24:36.803Z"
    }
   },
   "outputs": [],
   "source": [
    "mean3 = ds.mean(dim=[\"forecast_time\", \"step\"])\n",
    "cml.plot_map(mean3.isel(realization=0))"
   ]
  },
  {
   "cell_type": "code",
   "execution_count": null,
   "metadata": {
    "ExecuteTime": {
     "start_time": "2021-03-08T13:24:36.806Z"
    }
   },
   "outputs": [],
   "source": [
    "mean3 = ds.mean(dim=[\"forecast_time\", \"step\", \"realization\"])\n",
    "cml.plot_map(mean3)"
   ]
  }
 ],
 "metadata": {
  "kernelspec": {
   "display_name": "Python 3",
   "language": "python",
   "name": "python3"
  },
  "language_info": {
   "codemirror_mode": {
    "name": "ipython",
    "version": 3
   },
   "file_extension": ".py",
   "mimetype": "text/x-python",
   "name": "python",
   "nbconvert_exporter": "python",
   "pygments_lexer": "ipython3",
   "version": "3.8.6"
  },
  "toc": {
   "base_numbering": 1,
   "nav_menu": {},
   "number_sections": true,
   "sideBar": true,
   "skip_h1_title": false,
   "title_cell": "Table of Contents",
   "title_sidebar": "Contents",
   "toc_cell": false,
   "toc_position": {
    "height": "calc(100% - 180px)",
    "left": "10px",
    "top": "150px",
    "width": "378.4px"
   },
   "toc_section_display": true,
   "toc_window_display": true
  }
 },
 "nbformat": 4,
 "nbformat_minor": 4
}
